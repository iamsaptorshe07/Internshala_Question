{
 "cells": [
  {
   "cell_type": "markdown",
   "metadata": {},
   "source": [
    "# Question : Write a python program that finds the second largest number from a given list of numbers."
   ]
  },
  {
   "cell_type": "code",
   "execution_count": 2,
   "metadata": {},
   "outputs": [
    {
     "name": "stdout",
     "output_type": "stream",
     "text": [
      "Enter the size of the list :6\n",
      "Enter Value : 45\n",
      "Enter Value : 34\n",
      "Enter Value : 78\n",
      "Enter Value : 23\n",
      "Enter Value : 11\n",
      "Enter Value : 2\n",
      "List - [45, 34, 78, 23, 11, 2]\n",
      "Second Largest no is 45\n"
     ]
    }
   ],
   "source": [
    "lst = []\n",
    "n = int(input('Enter the size of the list :'))\n",
    "for i in range(n):\n",
    "    no = int(input('Enter Value : '))\n",
    "    lst.append(no)\n",
    "print(\"List - {}\".format(lst))\n",
    "lst.sort(reverse=True)\n",
    "print(\"Second Largest no is {}\".format(lst[1]))\n",
    "    "
   ]
  },
  {
   "cell_type": "markdown",
   "metadata": {},
   "source": [
    "# Given a positive integer N, write a program in python that checks if the number is prime or not."
   ]
  },
  {
   "cell_type": "code",
   "execution_count": 8,
   "metadata": {},
   "outputs": [
    {
     "name": "stdout",
     "output_type": "stream",
     "text": [
      "Enter a no to check whether it is a prime no or not : 13\n",
      "13 is a prime no\n"
     ]
    }
   ],
   "source": [
    "no = int(input('Enter a no to check whether it is a prime no or not : '))\n",
    "check = 0\n",
    "if(no>1):\n",
    "    for i in range(2,no):\n",
    "        if(no%i==0):\n",
    "            check=1\n",
    "            print(\"{} is not a prime no\".format(no))\n",
    "            break\n",
    "    if(check==0):\n",
    "        print(\"{} is a prime no\".format(no))\n",
    "else:\n",
    "    print(\"{} is not a prime no\".format(no))"
   ]
  }
 ],
 "metadata": {
  "kernelspec": {
   "display_name": "Python 3",
   "language": "python",
   "name": "python3"
  },
  "language_info": {
   "codemirror_mode": {
    "name": "ipython",
    "version": 3
   },
   "file_extension": ".py",
   "mimetype": "text/x-python",
   "name": "python",
   "nbconvert_exporter": "python",
   "pygments_lexer": "ipython3",
   "version": "3.6.0"
  }
 },
 "nbformat": 4,
 "nbformat_minor": 2
}
